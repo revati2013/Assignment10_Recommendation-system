{
  "nbformat": 4,
  "nbformat_minor": 0,
  "metadata": {
    "colab": {
      "name": "Assign10_Recommendation-system.ipynb",
      "provenance": [],
      "collapsed_sections": [],
      "authorship_tag": "ABX9TyNT0ugwS+8GM2BLCMh0pQDu",
      "include_colab_link": true
    },
    "kernelspec": {
      "name": "python3",
      "display_name": "Python 3"
    },
    "language_info": {
      "name": "python"
    }
  },
  "cells": [
    {
      "cell_type": "markdown",
      "metadata": {
        "id": "view-in-github",
        "colab_type": "text"
      },
      "source": [
        "<a href=\"https://colab.research.google.com/github/revati2013/Assignment10_Recommendation-system/blob/main/Assign10_Recommendation_system.ipynb\" target=\"_parent\"><img src=\"https://colab.research.google.com/assets/colab-badge.svg\" alt=\"Open In Colab\"/></a>"
      ]
    },
    {
      "cell_type": "code",
      "execution_count": null,
      "metadata": {
        "id": "688MQwmV5fua"
      },
      "outputs": [],
      "source": [
        "import pandas as pd\n",
        "import numpy as np"
      ]
    },
    {
      "cell_type": "code",
      "source": [
        "books=pd.read_csv('book.csv',encoding='latin-1')"
      ],
      "metadata": {
        "id": "BgYNkuFp5o6c"
      },
      "execution_count": null,
      "outputs": []
    },
    {
      "cell_type": "code",
      "source": [
        "books"
      ],
      "metadata": {
        "id": "cmgEzj3D6Ab5"
      },
      "execution_count": null,
      "outputs": []
    },
    {
      "cell_type": "markdown",
      "source": [
        "#EDA & Data preprocessing"
      ],
      "metadata": {
        "id": "OOqwGABzyDHa"
      }
    },
    {
      "cell_type": "code",
      "source": [
        "books.shape"
      ],
      "metadata": {
        "id": "T5-w3JkZyCoy"
      },
      "execution_count": null,
      "outputs": []
    },
    {
      "cell_type": "code",
      "source": [
        "books.info()"
      ],
      "metadata": {
        "id": "6JOsqMNW1SHL"
      },
      "execution_count": null,
      "outputs": []
    },
    {
      "cell_type": "code",
      "source": [
        "# Checking for null values\n",
        "books.isna().sum()"
      ],
      "metadata": {
        "id": "0BzpR-5_1Z28"
      },
      "execution_count": null,
      "outputs": []
    },
    {
      "cell_type": "code",
      "source": [
        "books['User.ID'].nunique()"
      ],
      "metadata": {
        "id": "hCU0PLN31rc0"
      },
      "execution_count": null,
      "outputs": []
    },
    {
      "cell_type": "code",
      "source": [
        "# No. of unique books\n",
        "books['Book.Title'].nunique()"
      ],
      "metadata": {
        "id": "P048BeWI2PYi"
      },
      "execution_count": null,
      "outputs": []
    },
    {
      "cell_type": "code",
      "source": [
        "import seaborn as sns\n",
        "sns.countplot(x='Book.Rating', data=books)"
      ],
      "metadata": {
        "id": "-nbLHXzD-2UV"
      },
      "execution_count": null,
      "outputs": []
    },
    {
      "cell_type": "code",
      "source": [
        "# Average book rating\n",
        "print('Average book rating: ', round(books['Book.Rating'].mean(), 2))"
      ],
      "metadata": {
        "id": "2btHlDbM_Eja"
      },
      "execution_count": null,
      "outputs": []
    },
    {
      "cell_type": "code",
      "source": [
        "#Sorting by User IDs\n",
        "books.sort_values(['User.ID'])"
      ],
      "metadata": {
        "id": "0zBSJERr7MtP"
      },
      "execution_count": null,
      "outputs": []
    },
    {
      "cell_type": "code",
      "source": [
        "# number of unique users in the dataset\n",
        "len(books['User.ID'].unique())"
      ],
      "metadata": {
        "id": "nL5FKLFu7ezW"
      },
      "execution_count": null,
      "outputs": []
    },
    {
      "cell_type": "code",
      "source": [
        "# number of unique books in the dataset\n",
        "books['Book.Rating'].value_counts()"
      ],
      "metadata": {
        "id": "xI257bEc7mP6"
      },
      "execution_count": null,
      "outputs": []
    },
    {
      "cell_type": "code",
      "source": [
        "# Renaming columns\n",
        "books = books.rename({'User.ID':'user_id', 'Book.Title':'book_title', 'Book.Rating':'book_rating'}, axis = 1)"
      ],
      "metadata": {
        "id": "JstJZg-6CQDR"
      },
      "execution_count": null,
      "outputs": []
    },
    {
      "cell_type": "code",
      "source": [
        "books_df = books.pivot_table(index='user_id',\n",
        "                                 columns='book_title',\n",
        "                                 values='book_rating').reset_index(drop=True)"
      ],
      "metadata": {
        "id": "sUH2TfnHCdJS"
      },
      "execution_count": null,
      "outputs": []
    },
    {
      "cell_type": "code",
      "source": [
        "books_df"
      ],
      "metadata": {
        "id": "QF3Ct9hjCoh7"
      },
      "execution_count": null,
      "outputs": []
    },
    {
      "cell_type": "code",
      "source": [
        "books_df.index = books['user_id'].unique()\n",
        "books_df"
      ],
      "metadata": {
        "id": "NoghOPa0CpHV"
      },
      "execution_count": null,
      "outputs": []
    },
    {
      "cell_type": "code",
      "source": [
        "#Impute those NaNs with 0 values\n",
        "books_df.fillna(0, inplace=True)\n",
        "books_df"
      ],
      "metadata": {
        "id": "LXBkGSQ8Dr7B"
      },
      "execution_count": null,
      "outputs": []
    },
    {
      "cell_type": "code",
      "source": [
        "from sklearn.metrics import pairwise_distances\n",
        "#Calculating Cosine Similarity between Users\n",
        "user_sim = 1 - pairwise_distances(books_df.values,metric='cosine')"
      ],
      "metadata": {
        "id": "-RrdF8CKD2Vl"
      },
      "execution_count": null,
      "outputs": []
    },
    {
      "cell_type": "code",
      "source": [
        "user_sim "
      ],
      "metadata": {
        "id": "NRsQNJZhEG1S"
      },
      "execution_count": null,
      "outputs": []
    },
    {
      "cell_type": "code",
      "source": [
        "#Store the results in a dataframe\n",
        "user_sim_df = pd.DataFrame(user_sim)"
      ],
      "metadata": {
        "id": "3rBLAN2xEN27"
      },
      "execution_count": null,
      "outputs": []
    },
    {
      "cell_type": "code",
      "source": [
        "#Set the index and column names to user ids \n",
        "user_sim_df.index = books.user_id.unique()\n",
        "user_sim_df.columns = books.user_id.unique()"
      ],
      "metadata": {
        "id": "G9Ef9ZI7ESrq"
      },
      "execution_count": null,
      "outputs": []
    },
    {
      "cell_type": "code",
      "source": [
        "user_sim_df.iloc[0:5, 0:5]"
      ],
      "metadata": {
        "id": "RwwRugMFEV2r"
      },
      "execution_count": null,
      "outputs": []
    },
    {
      "cell_type": "code",
      "source": [
        "# Fillimg diagonal values with 0\n",
        "np.fill_diagonal(user_sim, 0)\n",
        "user_sim_df.iloc[0:5, 0:5]"
      ],
      "metadata": {
        "id": "YF2SaZFqElA7"
      },
      "execution_count": null,
      "outputs": []
    },
    {
      "cell_type": "code",
      "source": [
        "#Most Similar Users\n",
        "user_sim_df.idxmax(axis=1)[0:5]"
      ],
      "metadata": {
        "id": "dxEn6xAJEoXS"
      },
      "execution_count": null,
      "outputs": []
    },
    {
      "cell_type": "code",
      "source": [
        "books[(books['user_id']==276729) | (books['user_id']==276726)]"
      ],
      "metadata": {
        "id": "ZwNCbmu1Erfb"
      },
      "execution_count": null,
      "outputs": []
    },
    {
      "cell_type": "code",
      "source": [
        "user_1=books[books['user_id']==276726]"
      ],
      "metadata": {
        "id": "gcvDo4-BE1bE"
      },
      "execution_count": null,
      "outputs": []
    },
    {
      "cell_type": "code",
      "source": [
        "user_2=books[books['user_id']==276729]"
      ],
      "metadata": {
        "id": "7kzv_wrTE97L"
      },
      "execution_count": null,
      "outputs": []
    },
    {
      "cell_type": "code",
      "source": [
        "pd.merge(user_1,user_2,on='book_title',how='outer')"
      ],
      "metadata": {
        "id": "dK-cSTShFE_g"
      },
      "execution_count": null,
      "outputs": []
    },
    {
      "cell_type": "code",
      "source": [
        ""
      ],
      "metadata": {
        "id": "kw0-Pxi0FH4x"
      },
      "execution_count": null,
      "outputs": []
    }
  ]
}